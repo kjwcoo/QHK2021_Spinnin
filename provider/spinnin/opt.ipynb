{
 "cells": [
  {
   "cell_type": "code",
   "execution_count": 1,
   "id": "6dab9edc-be80-453f-a845-a6d15fad64ff",
   "metadata": {},
   "outputs": [],
   "source": [
    "from qiskit import QuantumCircuit, Aer, assemble\n",
    "from math import pi\n",
    "import numpy as np\n",
    "from qiskit.visualization import plot_bloch_multivector, plot_histogram\n",
    "import matplotlib.pyplot as plt"
   ]
  },
  {
   "cell_type": "code",
   "execution_count": 2,
   "id": "c1c7bbef-bad1-4482-9bca-36083f61e039",
   "metadata": {},
   "outputs": [],
   "source": [
    "# set initial state\n",
    "n=2\n",
    "d=2\n",
    "qc = QuantumCircuit(2)"
   ]
  },
  {
   "cell_type": "code",
   "execution_count": 3,
   "id": "39302c7c-abc5-45b5-8418-967bf109037e",
   "metadata": {},
   "outputs": [
    {
     "name": "stdout",
     "output_type": "stream",
     "text": [
      "[[[0.25928348 5.36953415 5.89058306]\n",
      "  [4.72587927 0.82669428 0.92253431]]\n",
      "\n",
      " [[1.45450555 5.91739808 3.97173378]\n",
      "  [2.93307662 0.67471872 2.76567737]]\n",
      "\n",
      " [[3.38699796 0.78028535 0.5918956 ]\n",
      "  [4.76076725 2.46259796 1.55402114]]]\n"
     ]
    }
   ],
   "source": [
    "theta_rzz = 0 ##\n",
    "theta = np.random.uniform(0, 2*pi, (3,2,3))\n",
    "print(theta)"
   ]
  },
  {
   "cell_type": "code",
   "execution_count": 5,
   "id": "949b5f91-d166-41a9-8ee8-849f2a6370d2",
   "metadata": {},
   "outputs": [],
   "source": [
    "def single_qubit_gate(qc, rtheta, qubit):\n",
    "    qc.rx(rtheta[0], qubit)\n",
    "    qc.ry(rtheta[1], qubit)\n",
    "    qc.rx(rtheta[2], qubit)\n",
    "    return qc"
   ]
  },
  {
   "cell_type": "code",
   "execution_count": 10,
   "id": "022898c1-f0ce-4e51-86bc-af26e33220d1",
   "metadata": {},
   "outputs": [
    {
     "name": "stdout",
     "output_type": "stream",
     "text": [
      "single\n",
      "single\n",
      "source\n",
      "single\n",
      "single\n",
      "source\n",
      "single\n",
      "single\n"
     ]
    }
   ],
   "source": [
    "depth=2\n",
    "def parametrized_circuit(theta, theta_rzz):\n",
    "    qc = QuantumCircuit(2)\n",
    "    for i in range(depth+1):\n",
    "        for j in range(n):\n",
    "            single_qubit_gate(qc, theta[i, j], j)\n",
    "            print(\"single\")\n",
    "        if i==depth:\n",
    "            break\n",
    "        else:\n",
    "            qc.rzz(theta_rzz, 0, 1)\n",
    "            print(\"source\")\n",
    "            \n",
    "    \n",
    "parametrized_circuit(theta, theta_rzz)"
   ]
  },
  {
   "cell_type": "code",
   "execution_count": 35,
   "id": "dd89483a-b411-411c-80b6-53bff917df61",
   "metadata": {},
   "outputs": [
    {
     "name": "stdout",
     "output_type": "stream",
     "text": [
      "[[1 0 0 0]\n",
      " [0 1 0 0]\n",
      " [0 0 0 1]\n",
      " [0 0 1 0]]\n"
     ]
    }
   ],
   "source": [
    "dimension = 4\n",
    "n=2\n",
    "depth=2\n",
    "\n",
    "def rx(angle):\n",
    "    return np.array([[np.cos(angle/2), -1j*np.sin(angle/2)], [-1j*np.sin(angle/2), np.cos(angle/2)]])\n",
    "\n",
    "def ry(angle):\n",
    "    return np.array([[np.cos(angle/2), -1*np.sin(angle/2)], [np.sin(angle/2), np.cos(angle/2)]])\n",
    "\n",
    "\n",
    "def single_gate(alpha, beta, gamma):\n",
    "    return rx(alpha)@ry(beta)@rx(gamma)\n",
    "    \n",
    "def U(theta, source_theta):\n",
    "    theta = theta.detach().numpy()\n",
    "    uop = np.identity(dimension)\n",
    "    for i in range(depth+1):\n",
    "        single=[]\n",
    "        for j in range(n):\n",
    "            alpha, beta, gamma = theta[i, j]\n",
    "            single.append(single_gate(alpha, beta, gamma))\n",
    "            print(\"single\")\n",
    "            print(single)\n",
    "        if i==depth:\n",
    "            uop = uop @ np.tensordot(single[1], single[0], axes=0)\n",
    "        else:\n",
    "            print(uop.shape)\n",
    "            print(single[0])\n",
    "            print(single[1])\n",
    "            print(np.tensordot(single[1], single[0], 0).shape)\n",
    "            print(np.tensordot(single[1], single[0], 0))\n",
    "            uop = uop @ np.tensordot(single[1], single[0], axes=0) @ np.diag( [np.exp(-1j*source_theta/2), np.exp(1j*source_theta/2), np.exp(1j*source_theta/2), np.exp(-1j*source_theta/2) ])\n",
    "            print(\"source\")\n",
    "    theta = Variable(torch.FloatTensor(theta), requires_grad=True)\n",
    "    return uop, theta\n",
    "\n",
    "target = np.array([[1,0, 0 ,0], [0, 1, 0, 0], [0, 0, 0, 1], [0, 0, 1, 0]])\n",
    "print(target)"
   ]
  },
  {
   "cell_type": "code",
   "execution_count": 32,
   "id": "ea28f388-2b0b-41aa-8ae7-a61ea33cc32c",
   "metadata": {},
   "outputs": [],
   "source": [
    "def fidelity(theta, source_theta, dimension):\n",
    "    uop, theta = U(theta, source_theta)\n",
    "    fid = 1/(dimension+1)*( np.trace(target @ uop)/dimension + 1)\n",
    "    return fid, theta\n",
    "\n",
    "initial_theta = np.random.uniform(0, 2*pi, (3,2,3))"
   ]
  },
  {
   "cell_type": "code",
   "execution_count": 33,
   "id": "43dcb810-42aa-404f-b91e-4976aeff33c4",
   "metadata": {},
   "outputs": [],
   "source": [
    "import torch\n",
    "from torch.autograd import Variable"
   ]
  },
  {
   "cell_type": "code",
   "execution_count": 36,
   "id": "517f8fb3-a721-4b68-88fb-06835aa9883c",
   "metadata": {},
   "outputs": [
    {
     "name": "stdout",
     "output_type": "stream",
     "text": [
      "single\n",
      "[array([[ 0.36941388-0.70672481j, -0.17974801+0.57598964j],\n",
      "       [ 0.17974801+0.57598964j,  0.36941388+0.70672481j]])]\n",
      "single\n",
      "[array([[ 0.36941388-0.70672481j, -0.17974801+0.57598964j],\n",
      "       [ 0.17974801+0.57598964j,  0.36941388+0.70672481j]]), array([[ 0.82638053+0.12564839j, -0.50174012-0.22263097j],\n",
      "       [ 0.50174012-0.22263097j,  0.82638053-0.12564839j]])]\n",
      "(4, 4)\n",
      "[[ 0.36941388-0.70672481j -0.17974801+0.57598964j]\n",
      " [ 0.17974801+0.57598964j  0.36941388+0.70672481j]]\n",
      "[[ 0.82638053+0.12564839j -0.50174012-0.22263097j]\n",
      " [ 0.50174012-0.22263097j  0.82638053-0.12564839j]]\n",
      "(2, 2, 2, 2)\n",
      "[[[[ 0.39407528-0.53760737j -0.22091243+0.45340158j]\n",
      "   [ 0.07616809+0.49857168j  0.21647761+0.63043989j]]\n",
      "\n",
      "  [[-0.3426886 +0.27234922j  0.21841993-0.24897964j]\n",
      "   [ 0.03804635-0.32901459j -0.02801093-0.43683516j]]]\n",
      "\n",
      "\n",
      " [[[ 0.02801093-0.43683516j  0.03804635+0.32901459j]\n",
      "   [ 0.21841993+0.24897964j  0.3426886 +0.27234922j]]\n",
      "\n",
      "  [[ 0.21647761-0.63043989j -0.07616809+0.49857168j]\n",
      "   [ 0.22091243+0.45340158j  0.39407528+0.53760737j]]]]\n"
     ]
    },
    {
     "ename": "ValueError",
     "evalue": "matmul: Input operand 1 has a mismatch in its core dimension 0, with gufunc signature (n?,k),(k,m?)->(n?,m?) (size 2 is different from 4)",
     "output_type": "error",
     "traceback": [
      "\u001b[1;31m---------------------------------------------------------------------------\u001b[0m",
      "\u001b[1;31mValueError\u001b[0m                                Traceback (most recent call last)",
      "\u001b[1;32m<ipython-input-36-1e930518e4df>\u001b[0m in \u001b[0;36m<module>\u001b[1;34m\u001b[0m\n\u001b[0;32m      4\u001b[0m \u001b[0mtheta\u001b[0m \u001b[1;33m=\u001b[0m \u001b[0mVariable\u001b[0m\u001b[1;33m(\u001b[0m\u001b[0mtorch\u001b[0m\u001b[1;33m.\u001b[0m\u001b[0mFloatTensor\u001b[0m\u001b[1;33m(\u001b[0m\u001b[0minitial_theta\u001b[0m\u001b[1;33m)\u001b[0m\u001b[1;33m,\u001b[0m \u001b[0mrequires_grad\u001b[0m\u001b[1;33m=\u001b[0m\u001b[1;32mTrue\u001b[0m\u001b[1;33m)\u001b[0m\u001b[1;33m\u001b[0m\u001b[1;33m\u001b[0m\u001b[0m\n\u001b[0;32m      5\u001b[0m \u001b[1;32mfor\u001b[0m \u001b[0me\u001b[0m \u001b[1;32min\u001b[0m \u001b[0mrange\u001b[0m\u001b[1;33m(\u001b[0m\u001b[0mepochs\u001b[0m\u001b[1;33m)\u001b[0m\u001b[1;33m:\u001b[0m\u001b[1;33m\u001b[0m\u001b[1;33m\u001b[0m\u001b[0m\n\u001b[1;32m----> 6\u001b[1;33m     \u001b[0mfid\u001b[0m\u001b[1;33m,\u001b[0m \u001b[0mtheta\u001b[0m \u001b[1;33m=\u001b[0m \u001b[0mfidelity\u001b[0m\u001b[1;33m(\u001b[0m\u001b[0mtheta\u001b[0m\u001b[1;33m,\u001b[0m \u001b[0mnp\u001b[0m\u001b[1;33m.\u001b[0m\u001b[0mpi\u001b[0m\u001b[1;33m/\u001b[0m\u001b[1;36m4\u001b[0m\u001b[1;33m,\u001b[0m \u001b[1;36m4\u001b[0m\u001b[1;33m)\u001b[0m\u001b[1;33m\u001b[0m\u001b[1;33m\u001b[0m\u001b[0m\n\u001b[0m\u001b[0;32m      7\u001b[0m     \u001b[0mloss\u001b[0m \u001b[1;33m=\u001b[0m \u001b[1;36m1\u001b[0m \u001b[1;33m-\u001b[0m \u001b[0mfid\u001b[0m\u001b[1;33m\u001b[0m\u001b[1;33m\u001b[0m\u001b[0m\n\u001b[0;32m      8\u001b[0m     \u001b[0mloss\u001b[0m\u001b[1;33m.\u001b[0m\u001b[0mbackward\u001b[0m\u001b[1;33m(\u001b[0m\u001b[1;33m)\u001b[0m\u001b[1;33m\u001b[0m\u001b[1;33m\u001b[0m\u001b[0m\n",
      "\u001b[1;32m<ipython-input-32-258da40e5b3e>\u001b[0m in \u001b[0;36mfidelity\u001b[1;34m(theta, source_theta, dimension)\u001b[0m\n\u001b[0;32m      1\u001b[0m \u001b[1;32mdef\u001b[0m \u001b[0mfidelity\u001b[0m\u001b[1;33m(\u001b[0m\u001b[0mtheta\u001b[0m\u001b[1;33m,\u001b[0m \u001b[0msource_theta\u001b[0m\u001b[1;33m,\u001b[0m \u001b[0mdimension\u001b[0m\u001b[1;33m)\u001b[0m\u001b[1;33m:\u001b[0m\u001b[1;33m\u001b[0m\u001b[1;33m\u001b[0m\u001b[0m\n\u001b[1;32m----> 2\u001b[1;33m     \u001b[0muop\u001b[0m\u001b[1;33m,\u001b[0m \u001b[0mtheta\u001b[0m \u001b[1;33m=\u001b[0m \u001b[0mU\u001b[0m\u001b[1;33m(\u001b[0m\u001b[0mtheta\u001b[0m\u001b[1;33m,\u001b[0m \u001b[0msource_theta\u001b[0m\u001b[1;33m)\u001b[0m\u001b[1;33m\u001b[0m\u001b[1;33m\u001b[0m\u001b[0m\n\u001b[0m\u001b[0;32m      3\u001b[0m     \u001b[0mfid\u001b[0m \u001b[1;33m=\u001b[0m \u001b[1;36m1\u001b[0m\u001b[1;33m/\u001b[0m\u001b[1;33m(\u001b[0m\u001b[0mdimension\u001b[0m\u001b[1;33m+\u001b[0m\u001b[1;36m1\u001b[0m\u001b[1;33m)\u001b[0m\u001b[1;33m*\u001b[0m\u001b[1;33m(\u001b[0m \u001b[0mnp\u001b[0m\u001b[1;33m.\u001b[0m\u001b[0mtrace\u001b[0m\u001b[1;33m(\u001b[0m\u001b[0mtarget\u001b[0m \u001b[1;33m@\u001b[0m \u001b[0muop\u001b[0m\u001b[1;33m)\u001b[0m\u001b[1;33m/\u001b[0m\u001b[0mdimension\u001b[0m \u001b[1;33m+\u001b[0m \u001b[1;36m1\u001b[0m\u001b[1;33m)\u001b[0m\u001b[1;33m\u001b[0m\u001b[1;33m\u001b[0m\u001b[0m\n\u001b[0;32m      4\u001b[0m     \u001b[1;32mreturn\u001b[0m \u001b[0mfid\u001b[0m\u001b[1;33m,\u001b[0m \u001b[0mtheta\u001b[0m\u001b[1;33m\u001b[0m\u001b[1;33m\u001b[0m\u001b[0m\n\u001b[0;32m      5\u001b[0m \u001b[1;33m\u001b[0m\u001b[0m\n",
      "\u001b[1;32m<ipython-input-35-d8ddbb21219f>\u001b[0m in \u001b[0;36mU\u001b[1;34m(theta, source_theta)\u001b[0m\n\u001b[0;32m     31\u001b[0m             \u001b[0mprint\u001b[0m\u001b[1;33m(\u001b[0m\u001b[0mnp\u001b[0m\u001b[1;33m.\u001b[0m\u001b[0mtensordot\u001b[0m\u001b[1;33m(\u001b[0m\u001b[0msingle\u001b[0m\u001b[1;33m[\u001b[0m\u001b[1;36m1\u001b[0m\u001b[1;33m]\u001b[0m\u001b[1;33m,\u001b[0m \u001b[0msingle\u001b[0m\u001b[1;33m[\u001b[0m\u001b[1;36m0\u001b[0m\u001b[1;33m]\u001b[0m\u001b[1;33m,\u001b[0m \u001b[1;36m0\u001b[0m\u001b[1;33m)\u001b[0m\u001b[1;33m.\u001b[0m\u001b[0mshape\u001b[0m\u001b[1;33m)\u001b[0m\u001b[1;33m\u001b[0m\u001b[1;33m\u001b[0m\u001b[0m\n\u001b[0;32m     32\u001b[0m             \u001b[0mprint\u001b[0m\u001b[1;33m(\u001b[0m\u001b[0mnp\u001b[0m\u001b[1;33m.\u001b[0m\u001b[0mtensordot\u001b[0m\u001b[1;33m(\u001b[0m\u001b[0msingle\u001b[0m\u001b[1;33m[\u001b[0m\u001b[1;36m1\u001b[0m\u001b[1;33m]\u001b[0m\u001b[1;33m,\u001b[0m \u001b[0msingle\u001b[0m\u001b[1;33m[\u001b[0m\u001b[1;36m0\u001b[0m\u001b[1;33m]\u001b[0m\u001b[1;33m,\u001b[0m \u001b[1;36m0\u001b[0m\u001b[1;33m)\u001b[0m\u001b[1;33m)\u001b[0m\u001b[1;33m\u001b[0m\u001b[1;33m\u001b[0m\u001b[0m\n\u001b[1;32m---> 33\u001b[1;33m             \u001b[0muop\u001b[0m \u001b[1;33m=\u001b[0m \u001b[0muop\u001b[0m \u001b[1;33m@\u001b[0m \u001b[0mnp\u001b[0m\u001b[1;33m.\u001b[0m\u001b[0mtensordot\u001b[0m\u001b[1;33m(\u001b[0m\u001b[0msingle\u001b[0m\u001b[1;33m[\u001b[0m\u001b[1;36m1\u001b[0m\u001b[1;33m]\u001b[0m\u001b[1;33m,\u001b[0m \u001b[0msingle\u001b[0m\u001b[1;33m[\u001b[0m\u001b[1;36m0\u001b[0m\u001b[1;33m]\u001b[0m\u001b[1;33m,\u001b[0m \u001b[0maxes\u001b[0m\u001b[1;33m=\u001b[0m\u001b[1;36m0\u001b[0m\u001b[1;33m)\u001b[0m \u001b[1;33m@\u001b[0m \u001b[0mnp\u001b[0m\u001b[1;33m.\u001b[0m\u001b[0mdiag\u001b[0m\u001b[1;33m(\u001b[0m \u001b[1;33m[\u001b[0m\u001b[0mnp\u001b[0m\u001b[1;33m.\u001b[0m\u001b[0mexp\u001b[0m\u001b[1;33m(\u001b[0m\u001b[1;33m-\u001b[0m\u001b[1;36m1j\u001b[0m\u001b[1;33m*\u001b[0m\u001b[0msource_theta\u001b[0m\u001b[1;33m/\u001b[0m\u001b[1;36m2\u001b[0m\u001b[1;33m)\u001b[0m\u001b[1;33m,\u001b[0m \u001b[0mnp\u001b[0m\u001b[1;33m.\u001b[0m\u001b[0mexp\u001b[0m\u001b[1;33m(\u001b[0m\u001b[1;36m1j\u001b[0m\u001b[1;33m*\u001b[0m\u001b[0msource_theta\u001b[0m\u001b[1;33m/\u001b[0m\u001b[1;36m2\u001b[0m\u001b[1;33m)\u001b[0m\u001b[1;33m,\u001b[0m \u001b[0mnp\u001b[0m\u001b[1;33m.\u001b[0m\u001b[0mexp\u001b[0m\u001b[1;33m(\u001b[0m\u001b[1;36m1j\u001b[0m\u001b[1;33m*\u001b[0m\u001b[0msource_theta\u001b[0m\u001b[1;33m/\u001b[0m\u001b[1;36m2\u001b[0m\u001b[1;33m)\u001b[0m\u001b[1;33m,\u001b[0m \u001b[0mnp\u001b[0m\u001b[1;33m.\u001b[0m\u001b[0mexp\u001b[0m\u001b[1;33m(\u001b[0m\u001b[1;33m-\u001b[0m\u001b[1;36m1j\u001b[0m\u001b[1;33m*\u001b[0m\u001b[0msource_theta\u001b[0m\u001b[1;33m/\u001b[0m\u001b[1;36m2\u001b[0m\u001b[1;33m)\u001b[0m \u001b[1;33m]\u001b[0m\u001b[1;33m)\u001b[0m\u001b[1;33m\u001b[0m\u001b[1;33m\u001b[0m\u001b[0m\n\u001b[0m\u001b[0;32m     34\u001b[0m             \u001b[0mprint\u001b[0m\u001b[1;33m(\u001b[0m\u001b[1;34m\"source\"\u001b[0m\u001b[1;33m)\u001b[0m\u001b[1;33m\u001b[0m\u001b[1;33m\u001b[0m\u001b[0m\n\u001b[0;32m     35\u001b[0m     \u001b[0mtheta\u001b[0m \u001b[1;33m=\u001b[0m \u001b[0mVariable\u001b[0m\u001b[1;33m(\u001b[0m\u001b[0mtorch\u001b[0m\u001b[1;33m.\u001b[0m\u001b[0mFloatTensor\u001b[0m\u001b[1;33m(\u001b[0m\u001b[0mtheta\u001b[0m\u001b[1;33m)\u001b[0m\u001b[1;33m,\u001b[0m \u001b[0mrequires_grad\u001b[0m\u001b[1;33m=\u001b[0m\u001b[1;32mTrue\u001b[0m\u001b[1;33m)\u001b[0m\u001b[1;33m\u001b[0m\u001b[1;33m\u001b[0m\u001b[0m\n",
      "\u001b[1;31mValueError\u001b[0m: matmul: Input operand 1 has a mismatch in its core dimension 0, with gufunc signature (n?,k),(k,m?)->(n?,m?) (size 2 is different from 4)"
     ]
    }
   ],
   "source": [
    "epochs = 10\n",
    "lr = 0.1\n",
    "\n",
    "theta = Variable(torch.FloatTensor(initial_theta), requires_grad=True)\n",
    "for e in range(epochs):\n",
    "    fid, theta = fidelity(theta, np.pi/4, 4)\n",
    "    loss = 1 - fid\n",
    "    loss.backward()\n",
    "    print(loss)"
   ]
  },
  {
   "cell_type": "code",
   "execution_count": null,
   "id": "8e3aee0f-c7e0-48ff-8ff3-a48d8fad21e3",
   "metadata": {},
   "outputs": [],
   "source": []
  }
 ],
 "metadata": {
  "kernelspec": {
   "display_name": "Python 3",
   "language": "python",
   "name": "python3"
  },
  "language_info": {
   "codemirror_mode": {
    "name": "ipython",
    "version": 3
   },
   "file_extension": ".py",
   "mimetype": "text/x-python",
   "name": "python",
   "nbconvert_exporter": "python",
   "pygments_lexer": "ipython3",
   "version": "3.8.10"
  }
 },
 "nbformat": 4,
 "nbformat_minor": 5
}
