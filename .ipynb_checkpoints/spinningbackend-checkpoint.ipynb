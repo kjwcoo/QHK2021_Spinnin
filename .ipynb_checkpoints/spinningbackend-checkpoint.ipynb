{
 "cells": [
  {
   "cell_type": "code",
   "execution_count": null,
   "id": "5c711ddb",
   "metadata": {},
   "outputs": [],
   "source": [
    "from qiskit.providers import BaseBackend\n",
    "from .spinninjob import SpinninJob\n",
    "\n",
    "class SpinninBackend(BaseBackend):\n",
    "    def __init__(self, provider=None):\n",
    "        configuration = {\n",
    "            'backend_name': 'SpinninBackend',\n",
    "            'backend_version': '0.0.1',\n",
    "            'simulator': False,\n",
    "            'local': True,\n",
    "            'basis_gates': ['rx', 'ry', 'rz', 'cp'],\n",
    "            'memory': True,\n",
    "            'n_qubits': 1,\n",
    "            'conditional': False,\n",
    "            'max_shots': 10000,\n",
    "            'open_pulse': True,\n",
    "            'gates': [],\n",
    "            'coupling_map': None\n",
    "        }\n",
    "        \n",
    "        super().__init__(configuration=configuration, provider=provider)\n",
    "\n",
    "    def run(self, qobj):\n",
    "        job = SpinninJob(self, qobj=qobj)\n",
    "        job.submit()\n",
    "        return job"
   ]
  }
 ],
 "metadata": {
  "kernelspec": {
   "display_name": "Python 3",
   "language": "python",
   "name": "python3"
  },
  "language_info": {
   "codemirror_mode": {
    "name": "ipython",
    "version": 3
   },
   "file_extension": ".py",
   "mimetype": "text/x-python",
   "name": "python",
   "nbconvert_exporter": "python",
   "pygments_lexer": "ipython3",
   "version": "3.8.8"
  }
 },
 "nbformat": 4,
 "nbformat_minor": 5
}
