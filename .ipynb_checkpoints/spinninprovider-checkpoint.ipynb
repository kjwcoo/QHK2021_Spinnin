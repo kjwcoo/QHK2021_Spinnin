{
 "cells": [
  {
   "cell_type": "code",
   "execution_count": null,
   "id": "cd3b15fe",
   "metadata": {},
   "outputs": [],
   "source": [
    "from collections import OrderedDict\n",
    "\n",
    "from qiskit.providers import BaseProvider\n",
    "from qiskit.providers.models import BackendConfiguration\n",
    "\n",
    "from .spinninbackend import SpinninBackend\n",
    "\n",
    "\n",
    "class SpinninProvider(BaseProvider):\n",
    "    \"\"\"Provider for Spinnin backends.\"\"\"\n",
    "\n",
    "    def __init__(self):\n",
    "        \"\"\"Return a new SpinninProvider.\"\"\"\n",
    "        super().__init__()\n",
    "\n",
    "        # Populate the list of remote backends.\n",
    "        self._backends = [SpinninBackend(provider=self)]\n",
    "    \n",
    "    def get_backend(self, name=None, **kwargs):\n",
    "        return super().get_backend(name=name, **kwargs)\n",
    "\n",
    "    def backends(self, name=None, **kwargs):\n",
    "        backends = self._backends\n",
    "\n",
    "        if name:\n",
    "            backends = [b for b in backends if b.name() == name]\n",
    "\n",
    "        return list(backends)"
   ]
  }
 ],
 "metadata": {
  "kernelspec": {
   "display_name": "Python 3",
   "language": "python",
   "name": "python3"
  },
  "language_info": {
   "codemirror_mode": {
    "name": "ipython",
    "version": 3
   },
   "file_extension": ".py",
   "mimetype": "text/x-python",
   "name": "python",
   "nbconvert_exporter": "python",
   "pygments_lexer": "ipython3",
   "version": "3.8.8"
  }
 },
 "nbformat": 4,
 "nbformat_minor": 5
}
