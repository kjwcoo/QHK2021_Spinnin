{
 "cells": [
  {
   "cell_type": "code",
   "execution_count": 1,
   "id": "5465086e",
   "metadata": {},
   "outputs": [
    {
     "ename": "ModuleNotFoundError",
     "evalue": "No module named 'websockets'",
     "output_type": "error",
     "traceback": [
      "\u001b[1;31m---------------------------------------------------------------------------\u001b[0m",
      "\u001b[1;31mModuleNotFoundError\u001b[0m                       Traceback (most recent call last)",
      "\u001b[1;32m<ipython-input-1-dc8db5ad85c2>\u001b[0m in \u001b[0;36m<module>\u001b[1;34m\u001b[0m\n\u001b[0;32m      9\u001b[0m \u001b[1;32mfrom\u001b[0m \u001b[0mtime\u001b[0m \u001b[1;32mimport\u001b[0m \u001b[0msleep\u001b[0m\u001b[1;33m\u001b[0m\u001b[1;33m\u001b[0m\u001b[0m\n\u001b[0;32m     10\u001b[0m \u001b[1;32mimport\u001b[0m \u001b[0mnest_asyncio\u001b[0m\u001b[1;33m\u001b[0m\u001b[1;33m\u001b[0m\u001b[0m\n\u001b[1;32m---> 11\u001b[1;33m \u001b[1;32mimport\u001b[0m \u001b[0mwebsockets\u001b[0m\u001b[1;33m\u001b[0m\u001b[1;33m\u001b[0m\u001b[0m\n\u001b[0m\u001b[0;32m     12\u001b[0m \u001b[1;32mfrom\u001b[0m \u001b[0mqiskit\u001b[0m\u001b[1;33m.\u001b[0m\u001b[0massembler\u001b[0m\u001b[1;33m.\u001b[0m\u001b[0mdisassemble\u001b[0m \u001b[1;32mimport\u001b[0m \u001b[0mdisassemble\u001b[0m\u001b[1;33m\u001b[0m\u001b[1;33m\u001b[0m\u001b[0m\n\u001b[0;32m     13\u001b[0m \u001b[1;32mfrom\u001b[0m \u001b[0mqiskit\u001b[0m\u001b[1;33m.\u001b[0m\u001b[0mproviders\u001b[0m \u001b[1;32mimport\u001b[0m \u001b[0mBaseJob\u001b[0m\u001b[1;33m,\u001b[0m \u001b[0mJobError\u001b[0m\u001b[1;33m\u001b[0m\u001b[1;33m\u001b[0m\u001b[0m\n",
      "\u001b[1;31mModuleNotFoundError\u001b[0m: No module named 'websockets'"
     ]
    }
   ],
   "source": [
    "import json\n",
    "from collections import Counter\n",
    "from datetime import datetime, timezone\n",
    "from time import sleep\n",
    "from qiskit.providers import BaseJob\n",
    "from qiskit.qobj import validate_qobj_against_schema\n",
    "from qiskit.result import Result\n",
    "\n",
    "class SpinninJob(BaseJob):\n",
    "    def __init__(self, backend, qobj):\n",
    "        super().__init__(backend)\n",
    "\n",
    "        self._creation_date = datetime.utcnow().replace(tzinfo=timezone.utc).isoformat()\n",
    "\n",
    "        validate_qobj_against_schema(qobj)\n",
    "        self._qobj = qobj\n",
    "        \n",
    "    def submit(self):\n",
    "        payload = {\n",
    "            'language': 'JSON',\n",
    "            'program': self._qobj\n",
    "        }\n",
    "        \n",
    "        # Write QOBJ to local server\n",
    "        title = self._creation_date + '.txt'\n",
    "        with open( title, 'w' ) as file:\n",
    "            file.write( json.dump( payload ) )\n",
    "        \n",
    "        # Pass a trigger to the local server\n",
    "        with open( 'status.txt', 'a' ) as file:\n",
    "            file.write( 'start: ', title )\n",
    "\n",
    "    def result(self):\n",
    "        \n",
    "        shots = qobj.config.shots\n",
    "        \n",
    "        with open( 'status.txt', 'r' ) as file:\n",
    "            counts = 100\n",
    "            # counts = int( file.readlines()[-1] )\n",
    "            \n",
    "        experimental_results = {\n",
    "            'success': True,\n",
    "            'shots': shots,\n",
    "            'data': {'counts': counts}\n",
    "        }\n",
    "        \n",
    "        result = {\n",
    "            'success': True,\n",
    "            'backend_name': 'SpinninBackend',\n",
    "            'backend_version': '0.0.1',\n",
    "            'job_id': '0',\n",
    "            'qobj_id': '0',\n",
    "            'results': experimental_results\n",
    "        }\n",
    "        \n",
    "        self._result = Result.from_dict( result )\n",
    "        \n",
    "        return self._result\n",
    "\n",
    "    def cancel(self):\n",
    "        pass\n",
    "    \n",
    "    def status(self):\n",
    "        pass"
   ]
  },
  {
   "cell_type": "code",
   "execution_count": null,
   "id": "3038e9ce",
   "metadata": {},
   "outputs": [],
   "source": []
  }
 ],
 "metadata": {
  "kernelspec": {
   "display_name": "Python 3",
   "language": "python",
   "name": "python3"
  },
  "language_info": {
   "codemirror_mode": {
    "name": "ipython",
    "version": 3
   },
   "file_extension": ".py",
   "mimetype": "text/x-python",
   "name": "python",
   "nbconvert_exporter": "python",
   "pygments_lexer": "ipython3",
   "version": "3.8.8"
  }
 },
 "nbformat": 4,
 "nbformat_minor": 5
}
